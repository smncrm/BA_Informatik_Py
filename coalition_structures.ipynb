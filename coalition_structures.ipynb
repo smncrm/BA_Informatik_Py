{
 "cells": [
  {
   "cell_type": "code",
   "execution_count": 1,
   "metadata": {
    "collapsed": true,
    "pycharm": {
     "is_executing": false,
     "name": "#%%\n"
    }
   },
   "outputs": [],
   "source": [
    "import numpy as np\n",
    "import pandas as pd\n",
    "import itertools\n"
   ]
  },
  {
   "cell_type": "code",
   "execution_count": 2,
   "outputs": [],
   "source": [
    "def freeze(struct):\n",
    "    return frozenset(map(frozenset, struct))\n",
    "\n",
    "def unfreeze(frozen_struct):\n",
    "    return list(map(list, frozen_struct))\n",
    "\n",
    "def remove_players(coalition, players_to_remove):\n",
    "    \"\"\"\n",
    "    Removes all players from coalition that are in players_to_remove\n",
    "    :param coalition: \n",
    "    :param players_to_remove: \n",
    "    :return: The coalition without the removed players\n",
    "    \"\"\"\n",
    "    \n",
    "    return [p for p in coalition if p not in players_to_remove]\n"
   ],
   "metadata": {
    "collapsed": false,
    "pycharm": {
     "name": "#%%\n",
     "is_executing": false
    }
   }
  },
  {
   "cell_type": "code",
   "execution_count": 12,
   "outputs": [],
   "source": [
    "class Structure:\n",
    "    def __init__(self, frozen_struct):\n",
    "        self.struct = frozen_struct\n",
    "    \n",
    "    def __str__(self):\n",
    "        return str(unfreeze(self.struct))\n",
    "    \n",
    "    def __repr__(self):\n",
    "        return str(unfreeze(self.struct))\n",
    "    \n",
    "    def __hash__(self):\n",
    "        return self.struct.__hash__()\n",
    "    \n",
    "    def __eq__(self, other):\n",
    "        return self.__hash__() == other.__hash__()\n",
    "    \n",
    "    def move_coalition(self, coalition):\n",
    "        \"\"\"\n",
    "        Moves all players in coalition from their orginal coalition to form a new one.\n",
    "        :param coalition: New coalition to form \n",
    "        :return: The new coalition structure\n",
    "        \"\"\"\n",
    "        structure = unfreeze(self.struct)\n",
    "        new_structure = [remove_players(c, coalition) for c in structure]\n",
    "        filtered = list(filter(None, new_structure))\n",
    "        return Structure(freeze(filtered + [coalition]))\n",
    "    \n",
    "    def check_blocking_coalition(self, dic, coalition):\n",
    "        \"\"\"\n",
    "        checks whether the given coalition blocks the structure\n",
    "        :param dic: Dictionary containing all utilities for all structures\n",
    "        :param coalition: The coalition to check\n",
    "        :return: True if the coalition actually blocks the structure\n",
    "        \"\"\"\n",
    "        new_structure = self.move_coalition(coalition)\n",
    "        res = True\n",
    "        \n",
    "        for p in coalition:\n",
    "            if dic[self][p] >= dic[new_structure][p]:\n",
    "                res = False\n",
    "                break\n",
    "                \n",
    "        return res\n",
    "    \n",
    "    def is_core_stable(self, dic, all_cs):\n",
    "        \"\"\"\n",
    "        checks whether the structure is core stable\n",
    "        :param dic: Dictionary containing all utilities for all structures\n",
    "        :param all_cs: List of all possible coalitions\n",
    "        :return: True if the structure is core stable\n",
    "        \"\"\"\n",
    "        for c in all_cs:\n",
    "            if self.check_blocking_coalition(dic, c):\n",
    "                return False\n",
    "        return True\n",
    "        "
   ],
   "metadata": {
    "collapsed": false,
    "pycharm": {
     "name": "#%%\n",
     "is_executing": false
    }
   }
  },
  {
   "cell_type": "code",
   "execution_count": 9,
   "outputs": [],
   "source": [
    "# https://stackoverflow.com/questions/19368375/set-partitions-in-python\n",
    "\n",
    "def partition(collection):\n",
    "    if len(collection) == 1:\n",
    "        yield [ collection ]\n",
    "        return\n",
    "\n",
    "    first = collection[0]\n",
    "    for smaller in partition(collection[1:]):\n",
    "        # insert `first` in each of the subpartition's subsets\n",
    "        for n, subset in enumerate(smaller):\n",
    "            yield smaller[:n] + [[ first ] + subset]  + smaller[n+1:]\n",
    "        # put `first` in its own subset \n",
    "        yield [ [ first ] ] + smaller\n",
    "\n"
   ],
   "metadata": {
    "collapsed": false,
    "pycharm": {
     "name": "#%%\n",
     "is_executing": false
    }
   }
  },
  {
   "cell_type": "code",
   "execution_count": 10,
   "outputs": [],
   "source": [
    "def find_coalition(partition, player):\n",
    "\n",
    "    return [c for c in partition if player in c][0]\n",
    "\n",
    "def value_coalition(coalition, n, player, friends):\n",
    "    v = 0\n",
    "    for p in coalition:\n",
    "        if p == player:\n",
    "            continue\n",
    "        elif p in friends[player]:\n",
    "            v += n\n",
    "        else:\n",
    "            v -= 1\n",
    "    return v\n",
    "     \n",
    "def utility(partition, n, player, friends, type='SF'):\n",
    "    M = n**2\n",
    "    \n",
    "    c = find_coalition(partition, player)\n",
    "    own_value = value_coalition(c, n, player, friends)\n",
    "    min_value_friends = min([value_coalition(find_coalition(partition, friend), n, friend, friends) \n",
    "                             for friend in friends[player]])\n",
    "    if type=='SF':\n",
    "        return M * own_value \\\n",
    "               + min_value_friends\n",
    "    \n",
    "    if type=='EQ':\n",
    "        return min([own_value, min_value_friends])\n",
    "    \n",
    "    if type=='AL':\n",
    "        return own_value \\\n",
    "               + M * min_value_friends\n",
    "\n"
   ],
   "metadata": {
    "collapsed": false,
    "pycharm": {
     "name": "#%%\n",
     "is_executing": false
    }
   }
  },
  {
   "cell_type": "code",
   "execution_count": 6,
   "outputs": [],
   "source": [
    "def calculate_all_utilities(N, F, degree='SF'):\n",
    "    n = len(N)\n",
    "    partitions = enumerate(partition(list(N)), 1)\n",
    "    dic = dict()\n",
    "    \n",
    "    for i, p in partitions:\n",
    "        uts = []\n",
    "        for player in N:\n",
    "            uts.append(utility(p, n, player, F, type=degree))\n",
    "        dic[Structure(freeze(p))] = uts\n",
    "    return dic\n",
    "    \n",
    "\n",
    "        "
   ],
   "metadata": {
    "collapsed": false,
    "pycharm": {
     "name": "#%%\n",
     "is_executing": false
    }
   }
  },
  {
   "cell_type": "code",
   "execution_count": 8,
   "outputs": [],
   "source": [
    "n = 6\n",
    "N = range(n)\n",
    "F = {\n",
    "    0: [1,2],\n",
    "    1: [0,2],\n",
    "    2: [0,1,3],\n",
    "    3: [2,4,5],\n",
    "    4: [3,5],\n",
    "    5: [3,4]\n",
    "}\n"
   ],
   "metadata": {
    "collapsed": false,
    "pycharm": {
     "name": "#%%\n",
     "is_executing": false
    }
   }
  },
  {
   "cell_type": "code",
   "execution_count": 14,
   "outputs": [],
   "source": [
    "dic = calculate_all_utilities(N, F)\n",
    "\n"
   ],
   "metadata": {
    "collapsed": false,
    "pycharm": {
     "name": "#%%\n",
     "is_executing": false
    }
   }
  },
  {
   "cell_type": "code",
   "execution_count": 7,
   "outputs": [],
   "source": [
    "def find_all_coalitions(N):\n",
    "    res = []\n",
    "    for m in range(len(N)-1):\n",
    "        res += (list(itertools.combinations(N, m+1)))\n",
    "    return res"
   ],
   "metadata": {
    "collapsed": false,
    "pycharm": {
     "name": "#%%\n",
     "is_executing": false
    }
   }
  },
  {
   "cell_type": "code",
   "execution_count": 12,
   "outputs": [
    {
     "data": {
      "text/plain": "[(0,),\n (1,),\n (2,),\n (3,),\n (4,),\n (5,),\n (0, 1),\n (0, 2),\n (0, 3),\n (0, 4),\n (0, 5),\n (1, 2),\n (1, 3),\n (1, 4),\n (1, 5),\n (2, 3),\n (2, 4),\n (2, 5),\n (3, 4),\n (3, 5),\n (4, 5),\n (0, 1, 2),\n (0, 1, 3),\n (0, 1, 4),\n (0, 1, 5),\n (0, 2, 3),\n (0, 2, 4),\n (0, 2, 5),\n (0, 3, 4),\n (0, 3, 5),\n (0, 4, 5),\n (1, 2, 3),\n (1, 2, 4),\n (1, 2, 5),\n (1, 3, 4),\n (1, 3, 5),\n (1, 4, 5),\n (2, 3, 4),\n (2, 3, 5),\n (2, 4, 5),\n (3, 4, 5),\n (0, 1, 2, 3),\n (0, 1, 2, 4),\n (0, 1, 2, 5),\n (0, 1, 3, 4),\n (0, 1, 3, 5),\n (0, 1, 4, 5),\n (0, 2, 3, 4),\n (0, 2, 3, 5),\n (0, 2, 4, 5),\n (0, 3, 4, 5),\n (1, 2, 3, 4),\n (1, 2, 3, 5),\n (1, 2, 4, 5),\n (1, 3, 4, 5),\n (2, 3, 4, 5),\n (0, 1, 2, 3, 4),\n (0, 1, 2, 3, 5),\n (0, 1, 2, 4, 5),\n (0, 1, 3, 4, 5),\n (0, 2, 3, 4, 5),\n (1, 2, 3, 4, 5)]"
     },
     "metadata": {},
     "output_type": "execute_result",
     "execution_count": 12
    }
   ],
   "source": [
    "all_cs = find_all_coalitions(N)\n",
    "all_cs\n"
   ],
   "metadata": {
    "collapsed": false,
    "pycharm": {
     "name": "#%%\n",
     "is_executing": false
    }
   }
  },
  {
   "cell_type": "code",
   "execution_count": 17,
   "outputs": [
    {
     "name": "stdout",
     "text": [
      "SF True\nEQ False\nAL False\n"
     ],
     "output_type": "stream"
    }
   ],
   "source": [
    "n = 6\n",
    "N = range(n)\n",
    "F = {\n",
    "    0: [1,2],\n",
    "    1: [0,2],\n",
    "    2: [0,1,3],\n",
    "    3: [2,4,5],\n",
    "    4: [3,5],\n",
    "    5: [3,4]\n",
    "}\n",
    "\n",
    "dic_sf = calculate_all_utilities(N, F, degree='SF')\n",
    "dic_eq = calculate_all_utilities(N, F, degree='EQ')\n",
    "dic_al = calculate_all_utilities(N, F, degree='AL')\n",
    "\n",
    "all_cs = find_all_coalitions(N)\n",
    "gamma = Structure(freeze([[0,1,2,3,4,5]]))\n",
    "\n",
    "print('SF', gamma.is_core_stable(dic_sf, all_cs))\n",
    "print('EQ', gamma.is_core_stable(dic_eq, all_cs))\n",
    "print('AL', gamma.is_core_stable(dic_al, all_cs))\n",
    "    \n",
    "\n",
    "\n",
    "\n",
    "\n",
    "\n"
   ],
   "metadata": {
    "collapsed": false,
    "pycharm": {
     "name": "#%%\n",
     "is_executing": false
    }
   }
  },
  {
   "cell_type": "code",
   "execution_count": 19,
   "outputs": [
    {
     "name": "stdout",
     "text": [
      "[[1, 2, 3, 4, 5], [0]]\n(0,)\n[[0], [1], [2, 3, 4, 5]]\n"
     ],
     "output_type": "stream"
    }
   ],
   "source": [
    "gamma = Structure(freeze([[0],[1,2,3,4,5]]))\n",
    "delta = Structure(freeze([[0,1,2],[3,4,5]]))\n",
    "\n",
    "print(gamma)\n",
    "print(all_cs[0])\n",
    "print(gamma.move_coalition(all_cs[1]))\n",
    "\n"
   ],
   "metadata": {
    "collapsed": false,
    "pycharm": {
     "name": "#%%\n",
     "is_executing": false
    }
   }
  },
  {
   "cell_type": "code",
   "execution_count": 169,
   "outputs": [
    {
     "name": "stdout",
     "text": [
      "True\n"
     ],
     "output_type": "stream"
    },
    {
     "data": {
      "text/plain": "[[1], [7, 8, 9, 10, 11], [0, 20], [2, 3]]"
     },
     "metadata": {},
     "output_type": "execute_result",
     "execution_count": 169
    }
   ],
   "source": [
    "t = [[1,3,2], [0,20], [7,8,9,10,11]]\n",
    "p = [[20,0], [2,3], [7,8,9,10,11], [1]]\n",
    "\n",
    "ft = freeze(t)\n",
    "fp = freeze(p)\n",
    "\n",
    "st = Structure(ft)\n",
    "pt = Structure(fp)\n",
    "\n",
    "mt = st.move_coalition([2,3])\n",
    "\n",
    "print(pt == mt)\n",
    "mt\n"
   ],
   "metadata": {
    "collapsed": false,
    "pycharm": {
     "name": "#%%\n",
     "is_executing": false
    }
   }
  },
  {
   "cell_type": "code",
   "execution_count": 13,
   "outputs": [
    {
     "data": {
      "text/plain": "[None, [1]]"
     },
     "metadata": {},
     "output_type": "execute_result",
     "execution_count": 13
    }
   ],
   "source": [
    "l = [[], [1,2,3,4]]\n",
    "\n"
   ],
   "metadata": {
    "collapsed": false,
    "pycharm": {
     "name": "#%%\n",
     "is_executing": false
    }
   }
  }
 ],
 "metadata": {
  "language_info": {
   "codemirror_mode": {
    "name": "ipython",
    "version": 2
   },
   "file_extension": ".py",
   "mimetype": "text/x-python",
   "name": "python",
   "nbconvert_exporter": "python",
   "pygments_lexer": "ipython2",
   "version": "2.7.6"
  },
  "kernelspec": {
   "name": "python3",
   "language": "python",
   "display_name": "Python 3"
  },
  "pycharm": {
   "stem_cell": {
    "cell_type": "raw",
    "source": [],
    "metadata": {
     "collapsed": false
    }
   }
  }
 },
 "nbformat": 4,
 "nbformat_minor": 0
}