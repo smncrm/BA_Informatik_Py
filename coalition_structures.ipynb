{
 "cells": [
  {
   "cell_type": "markdown",
   "source": [
    "# Test various ACFGs for Core-Stability and Popularity"
   ],
   "metadata": {
    "collapsed": false,
    "pycharm": {
     "name": "#%% md\n"
    }
   }
  },
  {
   "cell_type": "code",
   "execution_count": 1,
   "metadata": {
    "collapsed": true,
    "pycharm": {
     "is_executing": false,
     "name": "#%%\n"
    }
   },
   "outputs": [],
   "source": [
    "from min_acfg import find_popular_structure, find_core_stable_structure"
   ]
  },
  {
   "cell_type": "markdown",
   "source": [
    "## Core Stability in Example 3.3"
   ],
   "metadata": {
    "collapsed": false,
    "pycharm": {
     "name": "#%% md\n"
    }
   }
  },
  {
   "cell_type": "code",
   "execution_count": 2,
   "outputs": [
    {
     "name": "stdout",
     "text": [
      "EQ: [[3, 4, 5], [0, 1, 2]]\nAL: [[3, 4, 5], [0, 1, 2]]\n"
     ],
     "output_type": "stream"
    }
   ],
   "source": [
    "n = 6\n",
    "N = range(n)\n",
    "F = {\n",
    "    0: [1,2],\n",
    "    1: [0,2],\n",
    "    2: [0,1,3],\n",
    "    3: [2,4,5],\n",
    "    4: [3,5],\n",
    "    5: [3,4]\n",
    "}\n",
    "\n",
    "struct_eq = find_core_stable_structure(N, F, degree='EQ')\n",
    "struct_al = find_core_stable_structure(N, F, degree='AL')\n",
    "\n",
    "    \n",
    "if struct_eq is None:\n",
    "    print('EQ:', 'No core stable structure!')\n",
    "else:\n",
    "    print('EQ:', struct_eq)\n",
    "    \n",
    "if struct_al is None:\n",
    "    print('AL:', 'No core stable structure!')\n",
    "else:\n",
    "    print('AL:', struct_al)"
   ],
   "metadata": {
    "collapsed": false,
    "pycharm": {
     "name": "#%%\n",
     "is_executing": false
    }
   }
  },
  {
   "cell_type": "markdown",
   "source": [
    "## Popularity in Example 3.4"
   ],
   "metadata": {
    "collapsed": false,
    "pycharm": {
     "name": "#%% md\n"
    }
   }
  },
  {
   "cell_type": "code",
   "execution_count": 3,
   "outputs": [
    {
     "name": "stdout",
     "text": [
      "SF: No popular structure!\nEQ: No popular structure!\nAL: No popular structure!\n"
     ],
     "output_type": "stream"
    }
   ],
   "source": [
    "n = 10\n",
    "N = range(n)\n",
    "F = {\n",
    "    0: [1],\n",
    "    1: [0,2],\n",
    "    2: [1,3],\n",
    "    3: [2,4,7],\n",
    "    4: [3,5],\n",
    "    5: [4,6],\n",
    "    6: [5],\n",
    "    7: [3,8],\n",
    "    8: [7,9],\n",
    "    9: [8]\n",
    "}\n",
    "\n",
    "struct_sf = find_popular_structure(N, F, degree='SF', strict=False)\n",
    "struct_eq = find_popular_structure(N, F, degree='EQ', strict=False)\n",
    "struct_al = find_popular_structure(N, F, degree='AL', strict=False)\n",
    "\n",
    "\n",
    "if struct_sf is None:\n",
    "    print('SF:', 'No popular structure!')\n",
    "else:\n",
    "    print('SF:', struct_sf)\n",
    "    \n",
    "if struct_eq is None:\n",
    "    print('EQ:', 'No popular structure!')\n",
    "else:\n",
    "    print('EQ:', struct_eq)\n",
    "    \n",
    "if struct_al is None:\n",
    "    print('AL:', 'No popular structure!')\n",
    "else:\n",
    "    print('AL:', struct_al)\n"
   ],
   "metadata": {
    "collapsed": false,
    "pycharm": {
     "name": "#%%\n",
     "is_executing": false
    }
   }
  }
 ],
 "metadata": {
  "language_info": {
   "codemirror_mode": {
    "name": "ipython",
    "version": 2
   },
   "file_extension": ".py",
   "mimetype": "text/x-python",
   "name": "python",
   "nbconvert_exporter": "python",
   "pygments_lexer": "ipython2",
   "version": "2.7.6"
  },
  "kernelspec": {
   "name": "python3",
   "language": "python",
   "display_name": "Python 3"
  },
  "pycharm": {
   "stem_cell": {
    "cell_type": "raw",
    "source": [],
    "metadata": {
     "collapsed": false
    }
   }
  }
 },
 "nbformat": 4,
 "nbformat_minor": 0
}