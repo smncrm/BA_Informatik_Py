{
 "cells": [
  {
   "cell_type": "code",
   "execution_count": 1,
   "metadata": {
    "collapsed": true,
    "pycharm": {
     "is_executing": false,
     "name": "#%%\n"
    }
   },
   "outputs": [],
   "source": [
    "from min_acfg import Structure, freeze, calculate_all_utilities, find_all_coalitions\n"
   ]
  },
  {
   "cell_type": "code",
   "execution_count": null,
   "outputs": [],
   "source": [
    "n = 6\n",
    "N = range(n)\n",
    "F = {\n",
    "    0: [1,2],\n",
    "    1: [0,2],\n",
    "    2: [0,1,3],\n",
    "    3: [2,4,5],\n",
    "    4: [3,5],\n",
    "    5: [3,4]\n",
    "}\n"
   ],
   "metadata": {
    "collapsed": false,
    "pycharm": {
     "name": "#%%\n"
    }
   }
  },
  {
   "cell_type": "code",
   "execution_count": 14,
   "outputs": [],
   "source": [
    "dic = calculate_all_utilities(N, F)\n",
    "\n"
   ],
   "metadata": {
    "collapsed": false,
    "pycharm": {
     "name": "#%%\n",
     "is_executing": false
    }
   }
  },
  {
   "cell_type": "code",
   "execution_count": 12,
   "outputs": [
    {
     "data": {
      "text/plain": "[(0,),\n (1,),\n (2,),\n (3,),\n (4,),\n (5,),\n (0, 1),\n (0, 2),\n (0, 3),\n (0, 4),\n (0, 5),\n (1, 2),\n (1, 3),\n (1, 4),\n (1, 5),\n (2, 3),\n (2, 4),\n (2, 5),\n (3, 4),\n (3, 5),\n (4, 5),\n (0, 1, 2),\n (0, 1, 3),\n (0, 1, 4),\n (0, 1, 5),\n (0, 2, 3),\n (0, 2, 4),\n (0, 2, 5),\n (0, 3, 4),\n (0, 3, 5),\n (0, 4, 5),\n (1, 2, 3),\n (1, 2, 4),\n (1, 2, 5),\n (1, 3, 4),\n (1, 3, 5),\n (1, 4, 5),\n (2, 3, 4),\n (2, 3, 5),\n (2, 4, 5),\n (3, 4, 5),\n (0, 1, 2, 3),\n (0, 1, 2, 4),\n (0, 1, 2, 5),\n (0, 1, 3, 4),\n (0, 1, 3, 5),\n (0, 1, 4, 5),\n (0, 2, 3, 4),\n (0, 2, 3, 5),\n (0, 2, 4, 5),\n (0, 3, 4, 5),\n (1, 2, 3, 4),\n (1, 2, 3, 5),\n (1, 2, 4, 5),\n (1, 3, 4, 5),\n (2, 3, 4, 5),\n (0, 1, 2, 3, 4),\n (0, 1, 2, 3, 5),\n (0, 1, 2, 4, 5),\n (0, 1, 3, 4, 5),\n (0, 2, 3, 4, 5),\n (1, 2, 3, 4, 5)]"
     },
     "metadata": {},
     "output_type": "execute_result",
     "execution_count": 12
    }
   ],
   "source": [
    "all_cs = find_all_coalitions(N)\n",
    "all_cs\n"
   ],
   "metadata": {
    "collapsed": false,
    "pycharm": {
     "name": "#%%\n",
     "is_executing": false
    }
   }
  },
  {
   "cell_type": "code",
   "execution_count": 22,
   "outputs": [
    {
     "name": "stdout",
     "text": [
      "SF True\nEQ False\nAL False\n[[3, 4, 5], [0, 1, 2]]\n"
     ],
     "output_type": "stream"
    }
   ],
   "source": [
    "n = 6\n",
    "N = range(n)\n",
    "F = {\n",
    "    0: [1,2],\n",
    "    1: [0,2],\n",
    "    2: [0,1,3],\n",
    "    3: [2,4,5],\n",
    "    4: [3,5],\n",
    "    5: [3,4]\n",
    "}\n",
    "\n",
    "dic_sf = calculate_all_utilities(N, F, degree='SF')\n",
    "dic_eq = calculate_all_utilities(N, F, degree='EQ')\n",
    "dic_al = calculate_all_utilities(N, F, degree='AL')\n",
    "\n",
    "all_cs = find_all_coalitions(N)\n",
    "gamma = Structure(freeze([[0,1,2,3,4,5]]))\n",
    "\n",
    "print('SF', gamma.is_core_stable(dic_sf, all_cs))\n",
    "print('EQ', gamma.is_core_stable(dic_eq, all_cs))\n",
    "print('AL', gamma.is_core_stable(dic_al, all_cs))\n",
    "\n",
    "for struct in dic_eq.keys():\n",
    "    if struct.is_core_stable(dic_al, all_cs):\n",
    "        print(struct)\n",
    "        break\n",
    "    "
   ],
   "metadata": {
    "collapsed": false,
    "pycharm": {
     "name": "#%%\n",
     "is_executing": false
    }
   }
  },
  {
   "cell_type": "code",
   "execution_count": 19,
   "outputs": [
    {
     "name": "stdout",
     "text": [
      "[[1, 2, 3, 4, 5], [0]]\n(0,)\n[[0], [1], [2, 3, 4, 5]]\n"
     ],
     "output_type": "stream"
    }
   ],
   "source": [
    "gamma = Structure(freeze([[0],[1,2,3,4,5]]))\n",
    "delta = Structure(freeze([[0,1,2],[3,4,5]]))\n",
    "\n",
    "print(gamma)\n",
    "print(all_cs[0])\n",
    "print(gamma.move_coalition(all_cs[1]))\n",
    "\n"
   ],
   "metadata": {
    "collapsed": false,
    "pycharm": {
     "name": "#%%\n",
     "is_executing": false
    }
   }
  },
  {
   "cell_type": "code",
   "execution_count": 169,
   "outputs": [
    {
     "name": "stdout",
     "text": [
      "True\n"
     ],
     "output_type": "stream"
    },
    {
     "data": {
      "text/plain": "[[1], [7, 8, 9, 10, 11], [0, 20], [2, 3]]"
     },
     "metadata": {},
     "output_type": "execute_result",
     "execution_count": 169
    }
   ],
   "source": [
    "t = [[1,3,2], [0,20], [7,8,9,10,11]]\n",
    "p = [[20,0], [2,3], [7,8,9,10,11], [1]]\n",
    "\n",
    "ft = freeze(t)\n",
    "fp = freeze(p)\n",
    "\n",
    "st = Structure(ft)\n",
    "pt = Structure(fp)\n",
    "\n",
    "mt = st.move_coalition([2,3])\n",
    "\n",
    "print(pt == mt)\n",
    "mt\n"
   ],
   "metadata": {
    "collapsed": false,
    "pycharm": {
     "name": "#%%\n",
     "is_executing": false
    }
   }
  },
  {
   "cell_type": "code",
   "execution_count": 13,
   "outputs": [
    {
     "data": {
      "text/plain": "[None, [1]]"
     },
     "metadata": {},
     "output_type": "execute_result",
     "execution_count": 13
    }
   ],
   "source": [
    "l = [[], [1,2,3,4]]\n",
    "\n"
   ],
   "metadata": {
    "collapsed": false,
    "pycharm": {
     "name": "#%%\n",
     "is_executing": false
    }
   }
  }
 ],
 "metadata": {
  "language_info": {
   "codemirror_mode": {
    "name": "ipython",
    "version": 2
   },
   "file_extension": ".py",
   "mimetype": "text/x-python",
   "name": "python",
   "nbconvert_exporter": "python",
   "pygments_lexer": "ipython2",
   "version": "2.7.6"
  },
  "kernelspec": {
   "name": "python3",
   "language": "python",
   "display_name": "Python 3"
  },
  "pycharm": {
   "stem_cell": {
    "cell_type": "raw",
    "source": [],
    "metadata": {
     "collapsed": false
    }
   }
  }
 },
 "nbformat": 4,
 "nbformat_minor": 0
}